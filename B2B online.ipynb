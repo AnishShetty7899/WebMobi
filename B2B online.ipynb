{
 "cells": [
  {
   "cell_type": "code",
   "execution_count": 1,
   "id": "5a87d972-ddab-46c2-8a12-648a227cf461",
   "metadata": {},
   "outputs": [],
   "source": [
    "# import libraries\n",
    "import requests\n",
    "from bs4 import BeautifulSoup\n",
    "import pandas as pd\n"
   ]
  },
  {
   "cell_type": "code",
   "execution_count": 12,
   "id": "5c8668c6-2ed3-407c-a43c-bc3b6df0ef8c",
   "metadata": {},
   "outputs": [
    {
     "name": "stdout",
     "output_type": "stream",
     "text": [
      "B2b Online\n",
      "April 28 - 30, 2025\n",
      "Chicago Marriott Downtown\n",
      "The World’s Leading eCommerce & Digital Marketing Conference for Manufacturers & Distributors\n",
      "B2B Online stands as the premier 3-day event tailored for B2B professionals within the manufacturing and distribution sectors, all with a keen interest in bolstering their eCommerce, omni-channel, and digital marketing prowess. At B2B Online, we present a unique opportunity for industry professionals to gain insights from thought leaders, establish invaluable connections with peers, and keep a finger on the pulse of the latest eCommerce and digital marketing trends.\n"
     ]
    }
   ],
   "source": [
    "# connect to website\n",
    "default='B2B Marketing Sumit'\n",
    "url=\"https://b2bmarketing.wbresearch.com/\"\n",
    "\n",
    "headers={\"User-Agent\": \"Mozilla/5.0 (Windows NT 10.0; Win64; x64) AppleWebKit/537.36 (KHTML, like Gecko) Chrome/126.0.0.0 Safari/537.36\",\"Accept-Encoding\": \"gzip, deflate, br, zstd\",\"Accept\": \"text/html,application/xhtml+xml,application/xml;q=0.9,image/avif,image/webp,image/apng,*/*;q=0.8,application/signed-exchange;v=b3;q=0.7\",\"DNT\":\"1\",\"Connection\":\"close\",\"Upgrade-Insecure-Requests\": \"1\"}\n",
    "\n",
    "page=requests.get(url,headers=headers)\n",
    "\n",
    "Soup1=BeautifulSoup(page.content,\"html.parser\")\n",
    "Soup2=BeautifulSoup(Soup1.prettify(),\"html.parser\")\n",
    "\n",
    "# title\n",
    "title=\"B2b Online\"\n",
    "print(title) \n",
    "\n",
    "# date\n",
    "Event_Dates=Soup2.find(\"p\", attrs={'class': 'data'}).get_text().strip()\n",
    "print(Event_Dates)\n",
    "\n",
    "# location\n",
    "locations=Soup2.find(\"p\", attrs={'class': 'venue'}).get_text().strip()\n",
    "print(locations)\n",
    "\n",
    "# Description\n",
    "discription=Soup2.find(\"h1\", attrs={'class': 'text-white text-shadow text-bold fa-1x'}).get_text().strip()\n",
    "print(discription)\n",
    "\n",
    "# speaker\n",
    "Speaker=\"N/A\"\n",
    "\n",
    "# agengda\n",
    "agenda=Soup2.find(\"p\", attrs={'class': 'fa-lg'}).get_text().strip()\n",
    "print(agenda)\n",
    "\n",
    "\n",
    "\n",
    "\n"
   ]
  },
  {
   "cell_type": "code",
   "execution_count": 18,
   "id": "d35df9b7-cd70-4c5d-a0dc-5388e981442e",
   "metadata": {},
   "outputs": [
    {
     "name": "stdout",
     "output_type": "stream",
     "text": [
      "$1,349, $3,699\n"
     ]
    }
   ],
   "source": [
    "url1=\"https://b2bmarketing.wbresearch.com/srspricing\"\n",
    "page1=requests.get(url1,headers=headers)\n",
    "\n",
    "Soup3=BeautifulSoup(page1.content,\"html.parser\")\n",
    "Soup4=BeautifulSoup(Soup3.prettify(),\"html.parser\")\n",
    "\n",
    "# price\n",
    "\n",
    "p=[]\n",
    "price=Soup4.find_all(\"span\", attrs={'class': 'srsprice_box_is'})\n",
    "for i in price:\n",
    "    prices=i.get_text().strip()\n",
    "    p.append(prices)\n",
    "Price=\", \".join(p)\n",
    "print(Price)"
   ]
  },
  {
   "cell_type": "code",
   "execution_count": 26,
   "id": "2e48e561-f621-4238-a475-936d5bb613b6",
   "metadata": {},
   "outputs": [
    {
     "name": "stdout",
     "output_type": "stream",
     "text": [
      "{'Event Name': 'B2b Online', 'Event Date(s)': 'April 28 - 30, 2025', 'Location': 'Chicago Marriott Downtown', 'Website URL': 'https://b2bmarketing.wbresearch.com/', 'Description': 'The World’s Leading eCommerce & Digital Marketing Conference for Manufacturers & Distributors', 'Key Speakers': 'N/A', 'Agenda': 'B2B Online stands as the premier 3-day event tailored for B2B professionals within the manufacturing and distribution sectors, all with a keen interest in bolstering their eCommerce, omni-channel, and digital marketing prowess. At B2B Online, we present a unique opportunity for industry professionals to gain insights from thought leaders, establish invaluable connections with peers, and keep a finger on the pulse of the latest eCommerce and digital marketing trends.', 'Registration Details': 'Can register through this link. https://b2bmarketing.wbresearch.com/srspricing', 'Pricing': '$1,349, $3,699', 'Categories': 'B2B Marketing Sumit', 'Audience type': 'All'}\n"
     ]
    }
   ],
   "source": [
    "\n",
    "# registration details\n",
    "rg_details=f'Can register through this link. https://b2bmarketing.wbresearch.com/srspricing'\n",
    "\n",
    "#catagories\n",
    "catagories=default\n",
    "#audience type\n",
    "audience_type='All'\n",
    "\n",
    "# Initialize a dictionary to store the event details\n",
    "event_details={}\n",
    "event_details = {\n",
    "        \"Event Name\": title,\n",
    "        \"Event Date(s)\": Event_Dates,\n",
    "        \"Location\": locations ,\n",
    "        \"Website URL\": url,\n",
    "        \"Description\": discription,\n",
    "        \"Key Speakers\": Speaker ,\n",
    "        \"Agenda\": agenda,\n",
    "        \"Registration Details\": rg_details ,\n",
    "        \"Pricing\": Price,\n",
    "        \"Categories\": catagories,\n",
    "        \"Audience type\": audience_type\n",
    "    }\n",
    "print(event_details)"
   ]
  },
  {
   "cell_type": "code",
   "execution_count": 27,
   "id": "83cc0e22-da47-4a58-a2a8-ef2fb5d26d76",
   "metadata": {},
   "outputs": [
    {
     "data": {
      "text/html": [
       "<div>\n",
       "<style scoped>\n",
       "    .dataframe tbody tr th:only-of-type {\n",
       "        vertical-align: middle;\n",
       "    }\n",
       "\n",
       "    .dataframe tbody tr th {\n",
       "        vertical-align: top;\n",
       "    }\n",
       "\n",
       "    .dataframe thead th {\n",
       "        text-align: right;\n",
       "    }\n",
       "</style>\n",
       "<table border=\"1\" class=\"dataframe\">\n",
       "  <thead>\n",
       "    <tr style=\"text-align: right;\">\n",
       "      <th></th>\n",
       "      <th>Event Name</th>\n",
       "      <th>Event Date(s)</th>\n",
       "      <th>Location</th>\n",
       "      <th>Website URL</th>\n",
       "      <th>Description</th>\n",
       "      <th>Key Speakers</th>\n",
       "      <th>Agenda</th>\n",
       "      <th>Registration Details</th>\n",
       "      <th>Pricing</th>\n",
       "      <th>Categories</th>\n",
       "      <th>Audience type</th>\n",
       "    </tr>\n",
       "  </thead>\n",
       "  <tbody>\n",
       "    <tr>\n",
       "      <th>0</th>\n",
       "      <td>B2b Online</td>\n",
       "      <td>April 28 - 30, 2025</td>\n",
       "      <td>Chicago Marriott Downtown</td>\n",
       "      <td>https://b2bmarketing.wbresearch.com/</td>\n",
       "      <td>The World’s Leading eCommerce &amp; Digital Market...</td>\n",
       "      <td>N/A</td>\n",
       "      <td>B2B Online stands as the premier 3-day event t...</td>\n",
       "      <td>Can register through this link. https://b2bmar...</td>\n",
       "      <td>$1,349, $3,699</td>\n",
       "      <td>B2B Marketing Sumit</td>\n",
       "      <td>All</td>\n",
       "    </tr>\n",
       "  </tbody>\n",
       "</table>\n",
       "</div>"
      ],
      "text/plain": [
       "   Event Name        Event Date(s)                   Location  \\\n",
       "0  B2b Online  April 28 - 30, 2025  Chicago Marriott Downtown   \n",
       "\n",
       "                            Website URL  \\\n",
       "0  https://b2bmarketing.wbresearch.com/   \n",
       "\n",
       "                                         Description Key Speakers  \\\n",
       "0  The World’s Leading eCommerce & Digital Market...          N/A   \n",
       "\n",
       "                                              Agenda  \\\n",
       "0  B2B Online stands as the premier 3-day event t...   \n",
       "\n",
       "                                Registration Details         Pricing  \\\n",
       "0  Can register through this link. https://b2bmar...  $1,349, $3,699   \n",
       "\n",
       "            Categories Audience type  \n",
       "0  B2B Marketing Sumit           All  "
      ]
     },
     "execution_count": 27,
     "metadata": {},
     "output_type": "execute_result"
    }
   ],
   "source": [
    "df=pd.DataFrame([event_details])\n",
    "df.head()"
   ]
  },
  {
   "cell_type": "code",
   "execution_count": 28,
   "id": "c36d9a72-ad69-4a48-9c66-4ede1b017340",
   "metadata": {},
   "outputs": [
    {
     "name": "stdout",
     "output_type": "stream",
     "text": [
      "   Event Name        Event Date(s)                   Location  \\\n",
      "0  B2b Online  April 28 - 30, 2025  Chicago Marriott Downtown   \n",
      "\n",
      "                            Website URL  \\\n",
      "0  https://b2bmarketing.wbresearch.com/   \n",
      "\n",
      "                                         Description  Key Speakers  \\\n",
      "0  The World’s Leading eCommerce & Digital Market...           NaN   \n",
      "\n",
      "                                              Agenda  \\\n",
      "0  B2B Online stands as the premier 3-day event t...   \n",
      "\n",
      "                                Registration Details         Pricing  \\\n",
      "0  Can register through this link. https://b2bmar...  $1,349, $3,699   \n",
      "\n",
      "            Categories Audience type  \n",
      "0  B2B Marketing Sumit           All  \n"
     ]
    }
   ],
   "source": [
    "csv_filename = 'B2BOnline.csv'\n",
    "df.to_csv(csv_filename, index=False)\n",
    "\n",
    "# Read CSV file into DataFrame\n",
    "df_from_csv = pd.read_csv(csv_filename)\n",
    "\n",
    "# Display the DataFrame read from CSV\n",
    "print(df_from_csv)"
   ]
  },
  {
   "cell_type": "code",
   "execution_count": 29,
   "id": "66ef0db9-0f66-4bda-8502-cd761ead7b07",
   "metadata": {},
   "outputs": [
    {
     "name": "stdout",
     "output_type": "stream",
     "text": [
      "{'Event Name': 'B2B Online', 'Event Date(s)': 'April 28 - 30, 2025', 'Location': 'Chicago Marriott Downtown', 'Description': 'The World’s Leading eCommerce & Digital Marketing Conference for Manufacturers & Distributors', 'Agenda': 'B2B Online stands as the premier 3-day event tailored for B2B professionals within the manufacturing and distribution sectors, all with a keen interest in bolstering their eCommerce, omni-channel, and digital marketing prowess. At B2B Online, we present a unique opportunity for industry professionals to gain insights from thought leaders, establish invaluable connections with peers, and keep a finger on the pulse of the latest eCommerce and digital marketing trends.', 'Key Speakers': 'N/A', 'Website URL': 'https://b2bmarketing.wbresearch.com/', 'Categories': 'B2B Marketing Summit', 'Audience type': 'All', 'Pricing': '$1,349, $3,699', 'Registration Details': 'Can register through this link: https://b2bmarketing.wbresearch.com/srspricing'}\n",
      "   Event Name        Event Date(s)                   Location  \\\n",
      "0  B2B Online  April 28 - 30, 2025  Chicago Marriott Downtown   \n",
      "\n",
      "                                         Description  \\\n",
      "0  The World’s Leading eCommerce & Digital Market...   \n",
      "\n",
      "                                              Agenda  Key Speakers  \\\n",
      "0  B2B Online stands as the premier 3-day event t...           NaN   \n",
      "\n",
      "                            Website URL            Categories Audience type  \\\n",
      "0  https://b2bmarketing.wbresearch.com/  B2B Marketing Summit           All   \n",
      "\n",
      "          Pricing                               Registration Details  \n",
      "0  $1,349, $3,699  Can register through this link: https://b2bmar...  \n"
     ]
    }
   ],
   "source": [
    "import requests\n",
    "from bs4 import BeautifulSoup\n",
    "import pandas as pd\n",
    "\n",
    "class B2BEventScraper:\n",
    "    def __init__(self, url, pricing_url, headers):\n",
    "        self.url = url\n",
    "        self.pricing_url = pricing_url\n",
    "        self.headers = headers\n",
    "        self.event_details = {}\n",
    "    \n",
    "    def get_soup(self, url):\n",
    "        page = requests.get(url, headers=self.headers)\n",
    "        soup = BeautifulSoup(page.content, \"html.parser\")\n",
    "        return BeautifulSoup(soup.prettify(), \"html.parser\")\n",
    "    \n",
    "    def scrape_main_page(self):\n",
    "        soup = self.get_soup(self.url)\n",
    "        \n",
    "        self.event_details[\"Event Name\"] = \"B2B Online\"\n",
    "        self.event_details[\"Event Date(s)\"] = soup.find(\"p\", attrs={'class': 'data'}).get_text().strip()\n",
    "        self.event_details[\"Location\"] = soup.find(\"p\", attrs={'class': 'venue'}).get_text().strip()\n",
    "        self.event_details[\"Description\"] = soup.find(\"h1\", attrs={'class': 'text-white text-shadow text-bold fa-1x'}).get_text().strip()\n",
    "        self.event_details[\"Agenda\"] = soup.find(\"p\", attrs={'class': 'fa-lg'}).get_text().strip()\n",
    "        self.event_details[\"Key Speakers\"] = \"N/A\"  # Assuming speakers are not available\n",
    "        self.event_details[\"Website URL\"] = self.url\n",
    "        self.event_details[\"Categories\"] = \"B2B Marketing Summit\"\n",
    "        self.event_details[\"Audience type\"] = 'All'\n",
    "    \n",
    "    def scrape_pricing_page(self):\n",
    "        soup = self.get_soup(self.pricing_url)\n",
    "        prices = [price.get_text().strip() for price in soup.find_all(\"span\", attrs={'class': 'srsprice_box_is'})]\n",
    "        self.event_details[\"Pricing\"] = \", \".join(prices)\n",
    "        self.event_details[\"Registration Details\"] = f'Can register through this link: {self.pricing_url}'\n",
    "    \n",
    "    def scrape_event_details(self):\n",
    "        self.scrape_main_page()\n",
    "        self.scrape_pricing_page()\n",
    "        return self.event_details\n",
    "    \n",
    "    def save_to_csv(self, filename):\n",
    "        df = pd.DataFrame([self.event_details])\n",
    "        df.to_csv(filename, index=False)\n",
    "        return filename\n",
    "    \n",
    "    def read_from_csv(self, filename):\n",
    "        df = pd.read_csv(filename)\n",
    "        return df\n",
    "\n",
    "# Example usage:\n",
    "if __name__ == \"__main__\":\n",
    "    url = \"https://b2bmarketing.wbresearch.com/\"\n",
    "    pricing_url = \"https://b2bmarketing.wbresearch.com/srspricing\"\n",
    "    headers = {\n",
    "        \"User-Agent\": \"Mozilla/5.0 (Windows NT 10.0; Win64; x64) AppleWebKit/537.36 (KHTML, like Gecko) Chrome/126.0.0.0 Safari/537.36\",\n",
    "        \"Accept-Encoding\": \"gzip, deflate, br, zstd\",\n",
    "        \"Accept\": \"text/html,application/xhtml+xml,application/xml;q=0.9,image/avif,image/webp,image/apng,*/*;q=0.8,application/signed-exchange;v=b3;q=0.7\",\n",
    "        \"DNT\": \"1\",\n",
    "        \"Connection\": \"close\",\n",
    "        \"Upgrade-Insecure-Requests\": \"1\"\n",
    "    }\n",
    "\n",
    "    scraper = B2BEventScraper(url, pricing_url, headers)\n",
    "    event_details = scraper.scrape_event_details()\n",
    "    print(event_details)\n",
    "\n",
    "    csv_filename = 'B2BOnline.csv'\n",
    "    scraper.save_to_csv(csv_filename)\n",
    "\n",
    "    df_from_csv = scraper.read_from_csv(csv_filename)\n",
    "    print(df_from_csv)\n"
   ]
  },
  {
   "cell_type": "code",
   "execution_count": null,
   "id": "90a81885-4189-4e0b-89b2-988d89963988",
   "metadata": {},
   "outputs": [],
   "source": []
  }
 ],
 "metadata": {
  "kernelspec": {
   "display_name": "Python 3 (ipykernel)",
   "language": "python",
   "name": "python3"
  },
  "language_info": {
   "codemirror_mode": {
    "name": "ipython",
    "version": 3
   },
   "file_extension": ".py",
   "mimetype": "text/x-python",
   "name": "python",
   "nbconvert_exporter": "python",
   "pygments_lexer": "ipython3",
   "version": "3.12.3"
  }
 },
 "nbformat": 4,
 "nbformat_minor": 5
}
