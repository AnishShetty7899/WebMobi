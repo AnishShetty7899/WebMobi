{
 "cells": [
  {
   "cell_type": "code",
   "execution_count": 1,
   "id": "827b6c66-7c7b-48fc-be8f-bf2a0060c8f4",
   "metadata": {},
   "outputs": [],
   "source": [
    "# import libraries\n",
    "import requests\n",
    "from bs4 import BeautifulSoup\n",
    "import pandas as pd\n",
    "import re"
   ]
  },
  {
   "cell_type": "code",
   "execution_count": 3,
   "id": "2ff8da5a-523c-4b0d-8e4b-3bc1961beb7a",
   "metadata": {},
   "outputs": [
    {
     "name": "stdout",
     "output_type": "stream",
     "text": [
      "B2B Marketing Exchange East\n",
      "None\n",
      "Los Angeles Convention Center, Miami Beach Convention Center\n",
      "The B2B Marketing Expo US offers a world class event agenda covering how marketing professionals can advance their businesses and own personal careers. Hundreds of suppliers and expert speakers will demonstrate the latest technologies and discuss the most innovative services available. Educational masterclasses provide more in-depth hands on experiences, networking areas facilitate valuable connections and panel session debates there is so much on offer over the 2 days all under 1 roof- check it out!\n",
      "It has two types of bookings Free tickets and Book a stand.\n"
     ]
    }
   ],
   "source": [
    "# connect to website\n",
    "default='B2B Marketing Sumit'\n",
    "url=\"https://www.b2bmarketingexpo.us/\"\n",
    "\n",
    "headers={\"User-Agent\": \"Mozilla/5.0 (Windows NT 10.0; Win64; x64) AppleWebKit/537.36 (KHTML, like Gecko) Chrome/126.0.0.0 Safari/537.36\",\"Accept-Encoding\": \"gzip, deflate, br, zstd\",\"Accept\": \"text/html,application/xhtml+xml,application/xml;q=0.9,image/avif,image/webp,image/apng,*/*;q=0.8,application/signed-exchange;v=b3;q=0.7\",\"DNT\":\"1\",\"Connection\":\"close\",\"Upgrade-Insecure-Requests\": \"1\"}\n",
    "\n",
    "page=requests.get(url,headers=headers)\n",
    "\n",
    "Soup1=BeautifulSoup(page.content,\"html.parser\")\n",
    "Soup2=BeautifulSoup(Soup1.prettify(),\"html.parser\")\n",
    "# title\n",
    "title=\"B2B Marketing Exchange East\"\n",
    "print(title)\n",
    "# date\n",
    "Event_Dates=Soup2.find(\"span\", attrs={'class': 'elementor-icon-list-text'})\n",
    "print(Event_Dates)\n",
    "\n",
    "\n",
    "        \n",
    "# location\n",
    "locations=Soup2.find_all(\"h3\", attrs={'class': 'ck-strapline--colour-white'})\n",
    "loc_pattern = re.compile(r'(\\b\\w+ \\d+(?:th|rd|nd|st)?(?: & \\d+(?:th|rd|nd|st)?)?,\\s*\\d{4})')\n",
    "loca=[]\n",
    "for loc in locations:\n",
    "    loc_text = loc.get_text().strip()\n",
    "    location = loc_text.split(' - ')[0]\n",
    "    loca.append(location)\n",
    "location=', '.join(loca)\n",
    "print(location)\n",
    "\n",
    "# Description\n",
    "discription=Soup2.find(\"p\", attrs={'class': 'ck-intro-text'}).get_text().strip()\n",
    "print(discription)\n",
    "\n",
    "# registration details\n",
    "rg_details=Soup2.find_all(\"div\", attrs={'class': 'panel__body'})\n",
    "for div in rg_details:\n",
    "    # Finding the first registration type (assuming it's an <a> tag)\n",
    "    rg_type1 = div.find('a', class_='ck-button-one')\n",
    "    if rg_type1:\n",
    "        rg_type1_text = rg_type1.get_text().strip()\n",
    "        \n",
    "\n",
    "    # Finding the second registration type (assuming it's an <a> tag)\n",
    "    rg_type2 = div.find('a', class_='ck-button-two')\n",
    "    if rg_type2:\n",
    "        rg_type2_text = rg_type2.get_text().strip()\n",
    "        \n",
    "\n",
    "    # printing combined registration types\n",
    "    if rg_type1 and rg_type2:\n",
    "        reg_details=f'It has two types of bookings {rg_type1_text} and {rg_type2_text}.'\n",
    "        print(reg_details)\n",
    "        break\n",
    "# pricing\n",
    "price='N/A'\n",
    "#catagories\n",
    "catagories=default\n",
    "#audience type\n",
    "audience_type='All'\n"
   ]
  },
  {
   "cell_type": "code",
   "execution_count": 4,
   "id": "f5346993-0972-45af-ac33-467ce2f1799a",
   "metadata": {},
   "outputs": [
    {
     "name": "stdout",
     "output_type": "stream",
     "text": [
      "Winston T Marshall, Ryan Ross, Rick Contreras, David Jarvis, JC Hite, Lauren Cortizo, Jennifer Smith, Allen Ashouri, Dave Zaboski, Salil Shah, Anthony Pu, Raphael Jose, Kjetil Njoten, Nathan Sumekh\n"
     ]
    }
   ],
   "source": [
    "url1=\"https://www.b2bmarketingexpo.us/2022-speakers\"\n",
    "page1=requests.get(url1,headers=headers)\n",
    "Soup3=BeautifulSoup(page1.content,\"html.parser\")\n",
    "Soup4=BeautifulSoup(Soup3.prettify(),\"html.parser\")\n",
    "\n",
    "div_speakers=Soup4.find_all(\"div\", attrs={'class': 'section section--one-column section--id-3'})\n",
    "speaker_names = []\n",
    "for div in div_speakers:\n",
    "    key_speakers=div.find_all(\"a\", attrs={'class': 'm-speakers-list__items__item__header__title__link js-librarylink-entry'})\n",
    "    for key in key_speakers:\n",
    "        key_speaker=key.get_text().strip()\n",
    "        speaker_names.append(key_speaker)\n",
    "# Join the speaker names with commas and print\n",
    "speakers=\", \".join(speaker_names)\n",
    "print(speakers)"
   ]
  },
  {
   "cell_type": "code",
   "execution_count": 5,
   "id": "c19f5283-db5b-4762-99b1-32eb678451e4",
   "metadata": {},
   "outputs": [
    {
     "name": "stdout",
     "output_type": "stream",
     "text": [
      "Cyber Secure & Soar: Navigating New White House Cybersecurity Mandates for Small Businesses, How Busy Professionals Become Bestselling Authors: Modern Publishing, Ghostwriting, and AI, Great Expectations: How to Meet Growing B2B CX Needs, Harnessing Technology and Human Touch for Enhanced Employee Engagement, GOVCON Women’s Empowerment: Breaking Barriers and Building a Bright Future, Trademark Smart: How to Build a Strong Brand and Prevent Infringement Issues, SaaSpreneurship: Redefining the Future of Entrepreneurship, as a SaaSpreneur, Unleashing Potential, Unlocking Success: The Power of Exceptional Alignment, Franchise Your Business, Using AI to Propel Your Digital Content Strategy, Using Ethical AI Systems for Profitable Ventures, Sales Overdrive: Unlock the Sales Strategy Behind Sales Growth Goliaths, AI Inc: Revolutionising Tomorrow with Cutting-Edge Technology Solutions, PROMPT ENGINEERING – Creating the best ChatGPT Prompt, Video Marketing in 2024: Are You Ready?, Taking the Blame, Finding Freedom: A Journey to Empowerment, Cyber security panel, Secrets of the highly ambitious ‘hint: the most ignored skills of Leaders”, SaaSpreneurship: Redefining the Future of Entrepreneurship, as a SaaSpreneur, Franchising your business can boost your business and personal wealth, exponentially., 100x Productivity with AI Automation & Multi-Agent Systems, Brand Strategy Over BS: the Key to Unlimited Growth, How to Drive Groundbreaking Marketing ROI (...and align with Sales), Unlocking Environmental Excellence: The Crucial Role of Microsoft Sustainability Manager\n"
     ]
    }
   ],
   "source": [
    "url2=\"https://www.b2bmarketingexpo.us/seminar-agenda\"\n",
    "page2=requests.get(url2,headers=headers)\n",
    "Soup5=BeautifulSoup(page2.content,\"html.parser\")\n",
    "Soup6=BeautifulSoup(Soup5.prettify(),\"html.parser\")\n",
    "\n",
    "ag_div=Soup6.find_all(\"div\", attrs={'class': 'm-seminar-list__list__items__item__title'})\n",
    "agenda=[]\n",
    "for ag in ag_div:\n",
    "    agendas=ag.find_all(\"a\", attrs={'class': 'js-librarylink-entry'})\n",
    "    for a in agendas:\n",
    "        agend=a.get_text().strip()\n",
    "        agenda.append(agend)\n",
    "agendas=\", \".join(agenda)\n",
    "print(agendas)\n"
   ]
  },
  {
   "cell_type": "code",
   "execution_count": 9,
   "id": "afb2449a-6548-413b-a854-015969782459",
   "metadata": {},
   "outputs": [
    {
     "name": "stdout",
     "output_type": "stream",
     "text": [
      "{'Event Name': 'B2B Marketing Exchange East', 'Event Date(s)': None, 'Location': 'Los Angeles Convention Center, Miami Beach Convention Center', 'Website URL': 'https://www.b2bmarketingexpo.us/', 'Description': 'The B2B Marketing Expo US offers a world class event agenda covering how marketing professionals can advance their businesses and own personal careers. Hundreds of suppliers and expert speakers will demonstrate the latest technologies and discuss the most innovative services available. Educational masterclasses provide more in-depth hands on experiences, networking areas facilitate valuable connections and panel session debates there is so much on offer over the 2 days all under 1 roof- check it out!', 'Key Speakers': 'Winston T Marshall, Ryan Ross, Rick Contreras, David Jarvis, JC Hite, Lauren Cortizo, Jennifer Smith, Allen Ashouri, Dave Zaboski, Salil Shah, Anthony Pu, Raphael Jose, Kjetil Njoten, Nathan Sumekh', 'Agenda': 'Cyber Secure & Soar: Navigating New White House Cybersecurity Mandates for Small Businesses, How Busy Professionals Become Bestselling Authors: Modern Publishing, Ghostwriting, and AI, Great Expectations: How to Meet Growing B2B CX Needs, Harnessing Technology and Human Touch for Enhanced Employee Engagement, GOVCON Women’s Empowerment: Breaking Barriers and Building a Bright Future, Trademark Smart: How to Build a Strong Brand and Prevent Infringement Issues, SaaSpreneurship: Redefining the Future of Entrepreneurship, as a SaaSpreneur, Unleashing Potential, Unlocking Success: The Power of Exceptional Alignment, Franchise Your Business, Using AI to Propel Your Digital Content Strategy, Using Ethical AI Systems for Profitable Ventures, Sales Overdrive: Unlock the Sales Strategy Behind Sales Growth Goliaths, AI Inc: Revolutionising Tomorrow with Cutting-Edge Technology Solutions, PROMPT ENGINEERING – Creating the best ChatGPT Prompt, Video Marketing in 2024: Are You Ready?, Taking the Blame, Finding Freedom: A Journey to Empowerment, Cyber security panel, Secrets of the highly ambitious ‘hint: the most ignored skills of Leaders”, SaaSpreneurship: Redefining the Future of Entrepreneurship, as a SaaSpreneur, Franchising your business can boost your business and personal wealth, exponentially., 100x Productivity with AI Automation & Multi-Agent Systems, Brand Strategy Over BS: the Key to Unlimited Growth, How to Drive Groundbreaking Marketing ROI (...and align with Sales), Unlocking Environmental Excellence: The Crucial Role of Microsoft Sustainability Manager', 'Registration Details': 'It has two types of bookings Free tickets and Book a stand.', 'Pricing': 'N/A', 'Categories': 'B2B Marketing Sumit', 'Audience type': 'All'}\n"
     ]
    }
   ],
   "source": [
    "# Initialize a dictionary to store the event details\n",
    "event_details={}\n",
    "event_details = {\n",
    "        \"Event Name\": title,\n",
    "        \"Event Date(s)\": Event_Dates,\n",
    "        \"Location\": location ,\n",
    "        \"Website URL\": url,\n",
    "        \"Description\": discription,\n",
    "        \"Key Speakers\": speakers ,\n",
    "        \"Agenda\": agendas,\n",
    "        \"Registration Details\": reg_details ,\n",
    "        \"Pricing\": price,\n",
    "        \"Categories\": catagories,\n",
    "        \"Audience type\": audience_type\n",
    "    }\n",
    "print(event_details)"
   ]
  },
  {
   "cell_type": "code",
   "execution_count": 10,
   "id": "f80acfbd-b42f-4334-9236-1a0b25af5a7e",
   "metadata": {},
   "outputs": [
    {
     "data": {
      "text/html": [
       "<div>\n",
       "<style scoped>\n",
       "    .dataframe tbody tr th:only-of-type {\n",
       "        vertical-align: middle;\n",
       "    }\n",
       "\n",
       "    .dataframe tbody tr th {\n",
       "        vertical-align: top;\n",
       "    }\n",
       "\n",
       "    .dataframe thead th {\n",
       "        text-align: right;\n",
       "    }\n",
       "</style>\n",
       "<table border=\"1\" class=\"dataframe\">\n",
       "  <thead>\n",
       "    <tr style=\"text-align: right;\">\n",
       "      <th></th>\n",
       "      <th>Event Name</th>\n",
       "      <th>Event Date(s)</th>\n",
       "      <th>Location</th>\n",
       "      <th>Website URL</th>\n",
       "      <th>Description</th>\n",
       "      <th>Key Speakers</th>\n",
       "      <th>Agenda</th>\n",
       "      <th>Registration Details</th>\n",
       "      <th>Pricing</th>\n",
       "      <th>Categories</th>\n",
       "      <th>Audience type</th>\n",
       "    </tr>\n",
       "  </thead>\n",
       "  <tbody>\n",
       "    <tr>\n",
       "      <th>0</th>\n",
       "      <td>B2B Marketing Exchange East</td>\n",
       "      <td>None</td>\n",
       "      <td>Los Angeles Convention Center, Miami Beach Con...</td>\n",
       "      <td>https://www.b2bmarketingexpo.us/</td>\n",
       "      <td>The B2B Marketing Expo US offers a world class...</td>\n",
       "      <td>Winston T Marshall, Ryan Ross, Rick Contreras,...</td>\n",
       "      <td>Cyber Secure &amp; Soar: Navigating New White Hous...</td>\n",
       "      <td>It has two types of bookings Free tickets and ...</td>\n",
       "      <td>N/A</td>\n",
       "      <td>B2B Marketing Sumit</td>\n",
       "      <td>All</td>\n",
       "    </tr>\n",
       "  </tbody>\n",
       "</table>\n",
       "</div>"
      ],
      "text/plain": [
       "                    Event Name Event Date(s)  \\\n",
       "0  B2B Marketing Exchange East          None   \n",
       "\n",
       "                                            Location  \\\n",
       "0  Los Angeles Convention Center, Miami Beach Con...   \n",
       "\n",
       "                        Website URL  \\\n",
       "0  https://www.b2bmarketingexpo.us/   \n",
       "\n",
       "                                         Description  \\\n",
       "0  The B2B Marketing Expo US offers a world class...   \n",
       "\n",
       "                                        Key Speakers  \\\n",
       "0  Winston T Marshall, Ryan Ross, Rick Contreras,...   \n",
       "\n",
       "                                              Agenda  \\\n",
       "0  Cyber Secure & Soar: Navigating New White Hous...   \n",
       "\n",
       "                                Registration Details Pricing  \\\n",
       "0  It has two types of bookings Free tickets and ...     N/A   \n",
       "\n",
       "            Categories Audience type  \n",
       "0  B2B Marketing Sumit           All  "
      ]
     },
     "execution_count": 10,
     "metadata": {},
     "output_type": "execute_result"
    }
   ],
   "source": [
    "df=pd.DataFrame([event_details])\n",
    "df.head()"
   ]
  },
  {
   "cell_type": "code",
   "execution_count": 11,
   "id": "917d994e-e600-4e6c-a890-df60bee332d7",
   "metadata": {},
   "outputs": [
    {
     "name": "stdout",
     "output_type": "stream",
     "text": [
      "                    Event Name  Event Date(s)  \\\n",
      "0  B2B Marketing Exchange East            NaN   \n",
      "\n",
      "                                            Location  \\\n",
      "0  Los Angeles Convention Center, Miami Beach Con...   \n",
      "\n",
      "                        Website URL  \\\n",
      "0  https://www.b2bmarketingexpo.us/   \n",
      "\n",
      "                                         Description  \\\n",
      "0  The B2B Marketing Expo US offers a world class...   \n",
      "\n",
      "                                        Key Speakers  \\\n",
      "0  Winston T Marshall, Ryan Ross, Rick Contreras,...   \n",
      "\n",
      "                                              Agenda  \\\n",
      "0  Cyber Secure & Soar: Navigating New White Hous...   \n",
      "\n",
      "                                Registration Details  Pricing  \\\n",
      "0  It has two types of bookings Free tickets and ...      NaN   \n",
      "\n",
      "            Categories Audience type  \n",
      "0  B2B Marketing Sumit           All  \n"
     ]
    }
   ],
   "source": [
    "csv_filename = 'b2bmarketingexpo.csv'\n",
    "df.to_csv(csv_filename, index=False)\n",
    "\n",
    "# Read CSV file into DataFrame\n",
    "df_from_csv = pd.read_csv(csv_filename)\n",
    "\n",
    "# Display the DataFrame read from CSV\n",
    "print(df_from_csv)"
   ]
  },
  {
   "cell_type": "code",
   "execution_count": null,
   "id": "87a8002a-b5e4-44b9-8ada-ffe8cd3cd35a",
   "metadata": {},
   "outputs": [],
   "source": []
  },
  {
   "cell_type": "code",
   "execution_count": 2,
   "id": "63b3cd05-f2f2-4122-91ed-07c5f15d8d95",
   "metadata": {},
   "outputs": [],
   "source": []
  },
  {
   "cell_type": "code",
   "execution_count": null,
   "id": "55c27fa7-2b7e-43a8-a75a-45c9c34e9949",
   "metadata": {},
   "outputs": [],
   "source": []
  },
  {
   "cell_type": "code",
   "execution_count": null,
   "id": "15cf35f6-6c30-4fcf-8ea1-71f12ec154ec",
   "metadata": {},
   "outputs": [],
   "source": []
  },
  {
   "cell_type": "code",
   "execution_count": null,
   "id": "208b9487-c1b9-4522-b088-8a206f6d5b14",
   "metadata": {},
   "outputs": [],
   "source": []
  },
  {
   "cell_type": "code",
   "execution_count": null,
   "id": "9be89a92-9076-4338-8818-92b84f5c0396",
   "metadata": {},
   "outputs": [],
   "source": []
  },
  {
   "cell_type": "code",
   "execution_count": null,
   "id": "eea84d71-a537-4afe-979a-71492e14e21c",
   "metadata": {},
   "outputs": [],
   "source": []
  },
  {
   "cell_type": "code",
   "execution_count": null,
   "id": "2aa166b7-8c3f-4c37-a82d-0d0260846c2d",
   "metadata": {},
   "outputs": [],
   "source": []
  },
  {
   "cell_type": "code",
   "execution_count": null,
   "id": "e5383853-ae28-482d-ad47-f614c777aaf6",
   "metadata": {},
   "outputs": [],
   "source": []
  },
  {
   "cell_type": "code",
   "execution_count": null,
   "id": "a1bba24a-c707-4f5b-8c3a-348c9fd7d448",
   "metadata": {},
   "outputs": [],
   "source": []
  }
 ],
 "metadata": {
  "kernelspec": {
   "display_name": "Python 3 (ipykernel)",
   "language": "python",
   "name": "python3"
  },
  "language_info": {
   "codemirror_mode": {
    "name": "ipython",
    "version": 3
   },
   "file_extension": ".py",
   "mimetype": "text/x-python",
   "name": "python",
   "nbconvert_exporter": "python",
   "pygments_lexer": "ipython3",
   "version": "3.12.3"
  }
 },
 "nbformat": 4,
 "nbformat_minor": 5
}
